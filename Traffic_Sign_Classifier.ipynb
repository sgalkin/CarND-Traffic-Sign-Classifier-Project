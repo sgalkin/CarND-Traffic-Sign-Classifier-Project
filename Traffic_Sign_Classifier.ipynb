{
 "cells": [
  {
   "cell_type": "markdown",
   "metadata": {},
   "source": [
    "# Self-Driving Car Engineer Nanodegree\n",
    "\n",
    "## Deep Learning\n",
    "\n",
    "## Project: Build a Traffic Sign Recognition Classifier\n",
    "\n",
    "In this notebook, a template is provided for you to implement your functionality in stages, which is required to successfully complete this project. If additional code is required that cannot be included in the notebook, be sure that the Python code is successfully imported and included in your submission if necessary. \n",
    "\n",
    "> **Note**: Once you have completed all of the code implementations, you need to finalize your work by exporting the iPython Notebook as an HTML document. Before exporting the notebook to html, all of the code cells need to have been run so that reviewers can see the final implementation and output. You can then export the notebook by using the menu above and navigating to  \\n\",\n",
    "    \"**File -> Download as -> HTML (.html)**. Include the finished document along with this notebook as your submission. \n",
    "\n",
    "In addition to implementing code, there is a writeup to complete. The writeup should be completed in a separate file, which can be either a markdown file or a pdf document. There is a [write up template](https://github.com/udacity/CarND-Traffic-Sign-Classifier-Project/blob/master/writeup_template.md) that can be used to guide the writing process. Completing the code template and writeup template will cover all of the [rubric points](https://review.udacity.com/#!/rubrics/481/view) for this project.\n",
    "\n",
    "The [rubric](https://review.udacity.com/#!/rubrics/481/view) contains \"Stand Out Suggestions\" for enhancing the project beyond the minimum requirements. The stand out suggestions are optional. If you decide to pursue the \"stand out suggestions\", you can include the code in this Ipython notebook and also discuss the results in the writeup file.\n",
    "\n",
    "\n",
    ">**Note:** Code and Markdown cells can be executed using the **Shift + Enter** keyboard shortcut. In addition, Markdown cells can be edited by typically double-clicking the cell to enter edit mode."
   ]
  },
  {
   "cell_type": "markdown",
   "metadata": {},
   "source": [
    "---\n",
    "## Step 0: Load The Data"
   ]
  },
  {
   "cell_type": "code",
   "execution_count": null,
   "metadata": {
    "collapsed": true
   },
   "outputs": [],
   "source": [
    "# Load pickled data\n",
    "import pickle\n",
    "import numpy as np\n",
    "\n",
    "training_file = 'train.p'\n",
    "validation_file= 'valid.p'\n",
    "testing_file = 'test.p'\n",
    "\n",
    "with open(training_file, mode='rb') as f:\n",
    "    train = pickle.load(f)\n",
    "with open(validation_file, mode='rb') as f:\n",
    "    valid = pickle.load(f)\n",
    "with open(testing_file, mode='rb') as f:\n",
    "    test = pickle.load(f)\n",
    "    \n",
    "X_train, y_train = train['features'], train['labels']\n",
    "X_valid, y_valid = valid['features'], valid['labels']\n",
    "X_test, y_test = test['features'], test['labels']\n",
    "\n",
    "assert(len(X_train) == len(y_train))\n",
    "assert(len(X_valid) == len(y_valid))\n",
    "assert(len(X_test) == len(y_test))"
   ]
  },
  {
   "cell_type": "code",
   "execution_count": null,
   "metadata": {
    "collapsed": true
   },
   "outputs": [],
   "source": [
    "import csv\n",
    "\n",
    "def read_names(filename):\n",
    "    with open(filename, 'r') as names:\n",
    "        return dict(((int(a), b) for a, b in csv.reader(names) if a.isdigit()))\n",
    "\n",
    "names_file = 'signnames.csv'\n",
    "sign_names = read_names(names_file)"
   ]
  },
  {
   "cell_type": "markdown",
   "metadata": {},
   "source": [
    "---\n",
    "\n",
    "## Step 1: Dataset Summary & Exploration\n",
    "\n",
    "The pickled data is a dictionary with 4 key/value pairs:\n",
    "\n",
    "- `'features'` is a 4D array containing raw pixel data of the traffic sign images, (num examples, width, height, channels).\n",
    "- `'labels'` is a 1D array containing the label/class id of the traffic sign. The file `signnames.csv` contains id -> name mappings for each id.\n",
    "- `'sizes'` is a list containing tuples, (width, height) representing the original width and height the image.\n",
    "- `'coords'` is a list containing tuples, (x1, y1, x2, y2) representing coordinates of a bounding box around the sign in the image. **THESE COORDINATES ASSUME THE ORIGINAL IMAGE. THE PICKLED DATA CONTAINS RESIZED VERSIONS (32 by 32) OF THESE IMAGES**\n",
    "\n",
    "Complete the basic data summary below. Use python, numpy and/or pandas methods to calculate the data summary rather than hard coding the results. For example, the [pandas shape method](http://pandas.pydata.org/pandas-docs/stable/generated/pandas.DataFrame.shape.html) might be useful for calculating some of the summary results. "
   ]
  },
  {
   "cell_type": "markdown",
   "metadata": {},
   "source": [
    "### Provide a Basic Summary of the Data Set Using Python, Numpy and/or Pandas"
   ]
  },
  {
   "cell_type": "code",
   "execution_count": null,
   "metadata": {},
   "outputs": [],
   "source": [
    "import numpy as np\n",
    "\n",
    "# Number of training examples\n",
    "n_train = len(y_train)\n",
    "\n",
    "# Number of validation examples\n",
    "n_validation = len(y_valid)\n",
    "\n",
    "# Number of testing examples.\n",
    "n_test = len(y_test)\n",
    "\n",
    "# What's the shape of an traffic sign image?\n",
    "image_shape = X_train.shape[1:]\n",
    "\n",
    "# How many unique classes/labels there are in the dataset.\n",
    "n_classes = len(np.unique(np.concatenate((y_train, y_valid, y_test))))\n",
    "\n",
    "print('Number of training examples =', n_train)\n",
    "print('Number of validation examples =', n_validation)\n",
    "print('Number of testing examples =', n_test)\n",
    "print('Image data shape =', image_shape)\n",
    "print('Number of classes =', n_classes)"
   ]
  },
  {
   "cell_type": "code",
   "execution_count": null,
   "metadata": {
    "collapsed": true
   },
   "outputs": [],
   "source": [
    "from sklearn.utils import shuffle\n",
    "\n",
    "X_train, y_train = shuffle(X_train, y_train)"
   ]
  },
  {
   "cell_type": "markdown",
   "metadata": {},
   "source": [
    "### Include an exploratory visualization of the dataset"
   ]
  },
  {
   "cell_type": "markdown",
   "metadata": {},
   "source": [
    "Visualize the German Traffic Signs Dataset using the pickled file(s). This is open ended, suggestions include: plotting traffic sign images, plotting the count of each sign, etc. \n",
    "\n",
    "The [Matplotlib](http://matplotlib.org/) [examples](http://matplotlib.org/examples/index.html) and [gallery](http://matplotlib.org/gallery.html) pages are a great resource for doing visualizations in Python.\n",
    "\n",
    "**NOTE:** It's recommended you start with something simple first. If you wish to do more, come back to it after you've completed the rest of the sections. It can be interesting to look at the distribution of classes in the training, validation and test set. Is the distribution the same? Are there more examples of some classes than others?"
   ]
  },
  {
   "cell_type": "code",
   "execution_count": null,
   "metadata": {
    "collapsed": true
   },
   "outputs": [],
   "source": [
    "import random\n",
    "import math\n",
    "import numpy as np\n",
    "import matplotlib.colors as clr\n",
    "import matplotlib.pyplot as plt\n",
    "import cv2\n",
    "%matplotlib inline"
   ]
  },
  {
   "cell_type": "code",
   "execution_count": null,
   "metadata": {
    "collapsed": true
   },
   "outputs": [],
   "source": [
    "# Create and display grid plot\n",
    "def plot_grid(array, indecies, cols, image_size=(1,1)):\n",
    "\n",
    "    def normalize(array, min_value=0.0, max_value=1.0):\n",
    "        return np.dstack(max_value*(a - np.min(a))/(np.max(a) - np.min(a)) + min_value\n",
    "                         for a in np.dsplit(array, array.shape[-1]))\n",
    "\n",
    "    mod = len(indecies) % cols\n",
    "    rows = int(len(indecies) / cols) + (0 if mod == 0 else 1)\n",
    "    figsize = tuple(a * b for a, b in zip(image_size, (cols, rows)))\n",
    "\n",
    "    padding = np.tile(np.zeros(array[0].shape), (1, 0 if mod == 0 else cols - mod, 1))\n",
    "    images = np.hstack((normalize(array[i].copy())) for i in indecies)\n",
    "    images = np.hstack((images, padding))\n",
    "    images = np.vstack(np.hsplit(images, rows))\n",
    "\n",
    "    plt.figure(figsize=figsize)\n",
    "    plt.axis('off')\n",
    "    plt.imshow(images.squeeze(), \n",
    "               cmap=None if len(images[0].shape) > 2 else 'gray',\n",
    "               interpolation=\"nearest\")"
   ]
  },
  {
   "cell_type": "code",
   "execution_count": null,
   "metadata": {
    "collapsed": true
   },
   "outputs": [],
   "source": [
    "def plot_bar(xs, ys, names, xlabel=None, ylabel=None, title=None):\n",
    "    plt.figure(figsize=(16, 4))\n",
    "    width = 0.28\n",
    "    n_series = len(ys)\n",
    "    n_categories = len(np.unique(np.concatenate(xs)))\n",
    "    for i, (x, y) in enumerate(zip(xs, ys)):\n",
    "        plt.bar(x + (i - int(n_series/2))*width, y, width)\n",
    "    \n",
    "    plt.xticks(np.arange(0, n_categories, 2))\n",
    "    if title: plt.legend(names)\n",
    "    if xlabel: plt.xlabel(xlabel)\n",
    "    if ylabel: plt.ylabel(ylabel)\n",
    "    plt.grid(True)\n",
    "    if title: plt.title(title)\n",
    "    \n",
    "def plot_histogram(series, names, xlabel=None, ylabel=None, title=None):\n",
    "    xs, ys = zip(*[(v, 100*c/np.sum(c)) \n",
    "       for v, c in (\n",
    "           np.unique(d, return_counts=True) for d in series\n",
    "       )])\n",
    "    plot_bar(xs, ys, names, xlabel, ylabel, title)"
   ]
  },
  {
   "cell_type": "code",
   "execution_count": null,
   "metadata": {},
   "outputs": [],
   "source": [
    "# Labels distribution\n",
    "plot_histogram((y_train, y_valid, y_test), \n",
    "               ('train', 'valid', 'test'), \n",
    "               xlabel='Category', ylabel='% in set', title='Signs distribution')"
   ]
  },
  {
   "cell_type": "code",
   "execution_count": null,
   "metadata": {
    "collapsed": true
   },
   "outputs": [],
   "source": [
    "# Take a copy of data just to simplify pre-process editing\n",
    "X_train_origin, y_train_origin = np.copy(X_train), np.copy(y_train)\n",
    "X_valid_origin, y_valid_origin = np.copy(X_valid), np.copy(y_valid)\n",
    "X_test_origin, y_test_origin = np.copy(X_test), np.copy(y_test)"
   ]
  },
  {
   "cell_type": "code",
   "execution_count": null,
   "metadata": {},
   "outputs": [],
   "source": [
    "plot_grid(X_train, \n",
    "          np.array([np.argwhere(y_train==i)[0:4] for i in range(n_classes)]).flatten(), \n",
    "          16, image_size=(1, 1))"
   ]
  },
  {
   "cell_type": "markdown",
   "metadata": {},
   "source": [
    "----\n",
    "\n",
    "## Step 2: Design and Test a Model Architecture\n",
    "\n",
    "Design and implement a deep learning model that learns to recognize traffic signs. Train and test your model on the [German Traffic Sign Dataset](http://benchmark.ini.rub.de/?section=gtsrb&subsection=dataset).\n",
    "\n",
    "The LeNet-5 implementation shown in the [classroom](https://classroom.udacity.com/nanodegrees/nd013/parts/fbf77062-5703-404e-b60c-95b78b2f3f9e/modules/6df7ae49-c61c-4bb2-a23e-6527e69209ec/lessons/601ae704-1035-4287-8b11-e2c2716217ad/concepts/d4aca031-508f-4e0b-b493-e7b706120f81) at the end of the CNN lesson is a solid starting point. You'll have to change the number of classes and possibly the preprocessing, but aside from that it's plug and play! \n",
    "\n",
    "With the LeNet-5 solution from the lecture, you should expect a validation set accuracy of about 0.89. To meet specifications, the validation set accuracy will need to be at least 0.93. It is possible to get an even higher accuracy, but 0.93 is the minimum for a successful project submission. \n",
    "\n",
    "There are various aspects to consider when thinking about this problem:\n",
    "\n",
    "- Neural network architecture (is the network over or underfitting?)\n",
    "- Play around preprocessing techniques (normalization, rgb to grayscale, etc)\n",
    "- Number of examples per label (some have more than others).\n",
    "- Generate fake data.\n",
    "\n",
    "Here is an example of a [published baseline model on this problem](http://yann.lecun.com/exdb/publis/pdf/sermanet-ijcnn-11.pdf). It's not required to be familiar with the approach used in the paper but, it's good practice to try to read papers like these."
   ]
  },
  {
   "cell_type": "markdown",
   "metadata": {},
   "source": [
    "### Pre-process the Data Set (normalization, grayscale, etc.)"
   ]
  },
  {
   "cell_type": "markdown",
   "metadata": {},
   "source": [
    "Minimally, the image data should be normalized so that the data has mean zero and equal variance. For image data, `(pixel - 128)/ 128` is a quick way to approximately normalize the data and can be used in this project. \n",
    "\n",
    "Other pre-processing steps are optional. You can try different techniques to see if it improves performance. \n",
    "\n",
    "Use the code cell (or multiple code cells, if necessary) to implement the first step of your project."
   ]
  },
  {
   "cell_type": "code",
   "execution_count": null,
   "metadata": {
    "collapsed": true
   },
   "outputs": [],
   "source": [
    "IMAGE_SIZE=(2.4, 2.4)\n",
    "\n",
    "def plot_images_in_row(images, title=None, image_size=IMAGE_SIZE, norm=None):\n",
    "    plt.figure(figsize=(len(images)*image_size[0], image_size[1]))\n",
    "    if title: plt.suptitle(title)\n",
    "\n",
    "    for i,img in enumerate(images):\n",
    "        plt.subplot(1, len(images), i + 1)\n",
    "        plt.imshow(img.squeeze(), \n",
    "                   cmap='gray' if len(img.shape) < 3 or img.shape[2] == 1 else None,\n",
    "                   norm=norm, vmin=0., vmax=255.)\n",
    "\n",
    "    plt.tight_layout(pad=2)"
   ]
  },
  {
   "cell_type": "code",
   "execution_count": null,
   "metadata": {
    "collapsed": true
   },
   "outputs": [],
   "source": [
    "# Image convertion functions\n",
    "def passthrough(image):\n",
    "    return image\n",
    "\n",
    "def grayscale(image):\n",
    "    return np.expand_dims(cv2.cvtColor(image, cv2.COLOR_RGB2GRAY), -1)"
   ]
  },
  {
   "cell_type": "code",
   "execution_count": null,
   "metadata": {},
   "outputs": [],
   "source": [
    "for p in (passthrough, grayscale):\n",
    "    plot_images_in_row((X_train[0], p(X_train[0])), title=p.__name__)"
   ]
  },
  {
   "cell_type": "code",
   "execution_count": null,
   "metadata": {
    "collapsed": true
   },
   "outputs": [],
   "source": [
    "# Utilities\n",
    "def rnd(a, b):\n",
    "    return (b - a) * random.random() + a\n",
    "\n",
    "def for_each_depth(method, array):\n",
    "    return (\n",
    "        np.expand_dims(method(array), axis=-1) if len(array.shape) < 3 else \n",
    "        np.stack((method(np.squeeze(a, axis=-1)) \n",
    "                 for a in np.dsplit(array, array.shape[-1])), \n",
    "                axis=-1))\n",
    "\n",
    "def for_each_row(method, array):\n",
    "    r = np.stack((method(np.squeeze(a, axis=0)) \n",
    "                     for a in np.vsplit(array, len(array))), \n",
    "                    axis=0)\n",
    "    if len(r.shape) < 4: r = np.expand_dims(r, axis=-1)\n",
    "    return r"
   ]
  },
  {
   "cell_type": "code",
   "execution_count": null,
   "metadata": {
    "collapsed": true
   },
   "outputs": [],
   "source": [
    "# Image transformations\n",
    "def normalize(array, mean, sigma):\n",
    "    def normalize_layer(a, mean, sigma):\n",
    "        if mean is None: mean = np.mean(a)\n",
    "        if sigma is None: sigma = 1.*(np.max(a) - np.min(a))\n",
    "        return (a - mean) / sigma\n",
    "    return for_each_depth(lambda a: normalize_layer(a, mean, sigma), array)\n",
    "\n",
    "def noise(array, sigma=1.0):\n",
    "    return array + sigma*np.random.standard_normal(array.shape)\n",
    "\n",
    "def adjust_contrast(array, factor):\n",
    "    return for_each_depth(lambda a: a * factor + (1 - factor) * np.mean(a), array)\n",
    "\n",
    "def adjust_brightness(array, value):\n",
    "    return for_each_depth(lambda a: a + value * (np.max(a) - np.min(a)), array)\n",
    "\n",
    "def blur(image, kernel):\n",
    "    return np.expand_dims(cv2.GaussianBlur(image, kernel, 0), -1)\n",
    "    \n",
    "def rotate(image, angle, scale):\n",
    "    rows, cols = image.shape[0:2]\n",
    "    M = cv2.getRotationMatrix2D((cols/2, rows/2), angle, scale)\n",
    "    return cv2.warpAffine(image, M, (cols, rows))\n",
    "\n",
    "def shift(image, dx, dy):\n",
    "    rows, cols = image.shape[0:2]\n",
    "    M = np.float32([[1, 0, dx], [0, 1, dy]])\n",
    "    return cv2.warpAffine(image, M, (cols, rows))"
   ]
  },
  {
   "cell_type": "code",
   "execution_count": null,
   "metadata": {},
   "outputs": [],
   "source": [
    "gray = grayscale(X_train[0])\n",
    "plot_images_in_row((gray, normalize(gray, None, None)), 'normalize', norm=clr.NoNorm())\n",
    "for p in (\n",
    "        (lambda i: noise(i, math.sqrt(4)), 'noise'),\n",
    "        (lambda i: adjust_contrast(i, 0.85), 'contrast low'),\n",
    "        (lambda i: adjust_contrast(i, 1.15), 'contrast high'),\n",
    "        (lambda i: adjust_brightness(i, -0.2), 'brightness low'),\n",
    "        (lambda i: adjust_brightness(i, 0.2), 'brightness high'),\n",
    "        (lambda i: blur(i, (3, 3)), 'blur'),\n",
    "        (lambda i: rotate(i, -15, 0.8), 'rotate ccw'),\n",
    "        (lambda i: rotate(i, 15, 1.2), 'rotate cw'),\n",
    "        (lambda i: shift(i, -2, 2), 'shift')):\n",
    "    plot_images_in_row((gray, p[0](gray)), title=p[1], image_size=IMAGE_SIZE)"
   ]
  },
  {
   "cell_type": "code",
   "execution_count": null,
   "metadata": {
    "collapsed": true
   },
   "outputs": [],
   "source": [
    "# Batch transformations\n",
    "def transform_images(array, transformation, *args, **kwargs):\n",
    "    return for_each_row(lambda i: transformation(i, *args, **kwargs), array)\n",
    "\n",
    "def boost(collection, labels, transformation, size):\n",
    "    return (\n",
    "        np.vstack(transform_images(collection, transformation) for _ in range(size)),\n",
    "        np.hstack(labels for _ in range(size)))  \n",
    "\n",
    "def equalize(features, labels, transformation, scale=1.0):\n",
    "    values, count = np.unique(labels, return_counts=True)\n",
    "    max_count = np.max(count)\n",
    "    \n",
    "    labels_copy = np.copy(labels)\n",
    "    for v in values:\n",
    "        indecies, = np.where(labels_copy==v)\n",
    "        has = len(indecies)\n",
    "        need = int(scale * max_count) - has\n",
    "        \n",
    "        if has == 0 or need <= 0:\n",
    "            continue\n",
    "        \n",
    "        transform_indecies = np.random.choice(indecies, need)\n",
    "        features = np.vstack((features, \n",
    "                              np.expand_dims(\n",
    "                                  np.array(list(transformation(features[i]) \n",
    "                                                for i in transform_indecies)), axis=-1)))\n",
    "        labels = np.hstack((labels, np.full((need,), v)))\n",
    "    \n",
    "    _, count = np.unique(labels, return_counts=True)\n",
    "    assert(int(scale * np.max(count)) == np.min(count))\n",
    "    assert(len(features) == len(labels))\n",
    "\n",
    "    return features, labels"
   ]
  },
  {
   "cell_type": "code",
   "execution_count": null,
   "metadata": {
    "collapsed": true
   },
   "outputs": [],
   "source": [
    "# Transformations\n",
    "\n",
    "NOISE_SIGMA = 3\n",
    "CONTRAST_ADJUSTMENT = 0.90\n",
    "EQUALIZATION_FACTOR = 0.33\n",
    "BOOST_SIZE = 5\n",
    "\n",
    "def preprocess_transformation(collection, mean=None, sigma=None):\n",
    "    for processor in (grayscale, lambda i: normalize(i, mean, sigma)):\n",
    "        collection = transform_images(collection, processor)\n",
    "    return collection\n",
    "\n",
    "def boost_transformation(img, mean=None, sigma=None):\n",
    "    return (\n",
    "        normalize(\n",
    "            shift(\n",
    "                rotate(\n",
    "                    noise(\n",
    "                        adjust_brightness(\n",
    "                            adjust_contrast(\n",
    "                                passthrough(img\n",
    "                                ), rnd(0.85, 1.15)\n",
    "                            ), rnd(-0.1, 0.1)\n",
    "                        ), math.sqrt(NOISE_SIGMA)\n",
    "                    ), rnd(-14, 14), rnd(0.8, 1.2)\n",
    "                ), rnd(-2, 2), rnd(-2, 2)\n",
    "            ), mean, sigma\n",
    "        ))\n",
    "\n",
    "def equalize_tranformation(img):\n",
    "    return (\n",
    "        shift(\n",
    "            rotate(\n",
    "                adjust_contrast(\n",
    "                    img, rnd(0.9, 1.1)\n",
    "                ), rnd(-3, 3), rnd(0.9, 1.1)\n",
    "            ), rnd(-1, -1), rnd(1, 1)))"
   ]
  },
  {
   "cell_type": "code",
   "execution_count": null,
   "metadata": {},
   "outputs": [],
   "source": [
    "print(\"origin:\\t\", X_train_origin.shape)\n",
    "X_train, y_train = np.copy(X_train_origin), np.copy(y_train_origin)\n",
    "print(\"train:\\t\", X_train.shape)\n",
    "\n",
    "X_train = transform_images(X_train, grayscale)\n",
    "if EQUALIZATION_FACTOR:\n",
    "    X_train, y_train = equalize(X_train, y_train, equalize_tranformation, EQUALIZATION_FACTOR)\n",
    "\n",
    "X_boost, y_boost = boost(X_train, y_train, boost_transformation, BOOST_SIZE)\n",
    "X_train = transform_images(X_train, \n",
    "                           lambda i:\n",
    "                               normalize(\n",
    "                                   noise(\n",
    "                                       adjust_contrast(\n",
    "                                           i, CONTRAST_ADJUSTMENT\n",
    "                                       ), math.sqrt(NOISE_SIGMA)\n",
    "                                   ), None, None\n",
    "                               )\n",
    "                          )\n",
    "X_train, y_train = np.vstack((X_train, X_boost)), np.hstack((y_train, y_boost))\n",
    "assert(len(X_train) == len(y_train))\n",
    "print (\"final:\\t\", X_train.shape)"
   ]
  },
  {
   "cell_type": "code",
   "execution_count": null,
   "metadata": {},
   "outputs": [],
   "source": [
    "plot_grid(X_train, [random.randint(0, len(X_train)) for _ in range(64)], 8, image_size=(2, 2))"
   ]
  },
  {
   "cell_type": "code",
   "execution_count": null,
   "metadata": {
    "scrolled": true
   },
   "outputs": [],
   "source": [
    "plot_histogram((y_train,), ('train',), xlabel='Categories', ylabel='% in set', title='Equalized distribution')"
   ]
  },
  {
   "cell_type": "code",
   "execution_count": null,
   "metadata": {
    "collapsed": true
   },
   "outputs": [],
   "source": [
    "X_valid, y_valid = np.copy(X_valid_origin), np.copy(y_valid_origin)\n",
    "X_valid = preprocess_transformation(X_valid, None, None)"
   ]
  },
  {
   "cell_type": "code",
   "execution_count": null,
   "metadata": {
    "collapsed": true
   },
   "outputs": [],
   "source": [
    "X_test, y_test = np.copy(X_test_origin), np.copy(y_test_origin)\n",
    "X_test = preprocess_transformation(X_test, None, None)"
   ]
  },
  {
   "cell_type": "code",
   "execution_count": null,
   "metadata": {
    "collapsed": true
   },
   "outputs": [],
   "source": [
    "def store(name, features, labels):\n",
    "    with open(name, 'wb') as output:\n",
    "        pickle.dump({'features': features, 'labels': labels}, \n",
    "                    output, \n",
    "                    pickle.HIGHEST_PROTOCOL)\n",
    "\n",
    "store(\"train.processed.p\", X_train, y_train)\n",
    "store(\"valid.processed.p\", X_valid, y_valid)\n",
    "store(\"test.processed.p\", X_test, y_test)"
   ]
  },
  {
   "cell_type": "code",
   "execution_count": null,
   "metadata": {
    "collapsed": true
   },
   "outputs": [],
   "source": [
    "n_channels = X_train.shape[-1]"
   ]
  },
  {
   "cell_type": "markdown",
   "metadata": {},
   "source": [
    "# Model Architecture"
   ]
  },
  {
   "cell_type": "code",
   "execution_count": null,
   "metadata": {
    "collapsed": true
   },
   "outputs": [],
   "source": [
    "import tensorflow as tf"
   ]
  },
  {
   "cell_type": "code",
   "execution_count": null,
   "metadata": {
    "collapsed": true
   },
   "outputs": [],
   "source": [
    "from tensorflow.contrib.layers import flatten            \n",
    "    \n",
    "def LeNet(spec, x, conv_keep_prob, dense_keep_prob, verbose=False):\n",
    "    # Arguments used for tf.truncated_normal, randomly defines variables for the weights and biases for each layer\n",
    "    mu = 0\n",
    "    sigma = 0.1\n",
    "    m = 3\n",
    "\n",
    "    def convolution(x, W, b, names, paddings):\n",
    "        assert(len(names) == len(paddings))\n",
    "        for name, padding in zip(names, paddings):\n",
    "            x = tf.nn.conv2d(x, W[name], strides=[1, 1, 1, 1], padding=padding) + b[name]\n",
    "            if verbose: print(\"conv\", x)\n",
    "            x = tf.nn.relu(x)\n",
    "            if verbose: print(\"relu\", x)\n",
    "        return x\n",
    "\n",
    "    def pre(x):\n",
    "        weights = {\n",
    "            'c7x7_1': tf.Variable(tf.truncated_normal([7, 7, n_channels, 2**(m + 0)], mu, sigma)),\n",
    "            'c1x1_1': tf.Variable(tf.truncated_normal([1, 1, 2**(m + 0), 2**(m - 1)], mu, sigma)),\n",
    "            'c5x5_1': tf.Variable(tf.truncated_normal([5, 5, 2**(m - 1), 2**(m + 2)], mu, sigma)), \n",
    "        }\n",
    "        biases = {\n",
    "            'c7x7_1': tf.Variable(tf.zeros(2**(m + 0))),\n",
    "            'c1x1_1': tf.Variable(tf.zeros(2**(m - 1))),\n",
    "            'c5x5_1': tf.Variable(tf.zeros(2**(m + 2))),\n",
    "        }\n",
    "        \n",
    "        # Preprocessing \n",
    "        x = convolution(x, weights, biases, ('c7x7_1', 'c1x1_1', 'c5x5_1',), ('SAME', 'VALID', 'VALID',))\n",
    "        x = tf.nn.max_pool(x, ksize=[1, 2, 2, 1], strides=[1, 2, 2, 1], padding='VALID')\n",
    "        if verbose: print(\"max-pool\", x)\n",
    "        if verbose: print(\"pre\")\n",
    "        return x\n",
    "    \n",
    "    def branch_a(x):\n",
    "        weights = {\n",
    "            'c1x1_1': tf.Variable(tf.truncated_normal([1, 1, 2**(m + 2), 2**(m + 1)], mu, sigma)),\n",
    "            'c5x5_1': tf.Variable(tf.truncated_normal([5, 5, 2**(m + 1), 2**(m + 4)], mu, sigma)),\n",
    "            'c1x1_2': tf.Variable(tf.truncated_normal([1, 1, 2**(m + 4), 2**(m + 3)], mu, sigma)),\n",
    "            'c3x3_2': tf.Variable(tf.truncated_normal([3, 3, 2**(m + 3), 2**(m + 5)], mu, sigma)),\n",
    "        }\n",
    "        biases = {\n",
    "            'c1x1_1': tf.Variable(tf.zeros(2**(m + 1))),\n",
    "            'c5x5_1': tf.Variable(tf.zeros(2**(m + 4))),\n",
    "            'c1x1_2': tf.Variable(tf.zeros(2**(m + 3))),\n",
    "            'c3x3_2': tf.Variable(tf.zeros(2**(m + 5))),\n",
    "        }\n",
    "\n",
    "        x = convolution(x, weights, biases, ('c1x1_1', 'c5x5_1'), ('VALID', 'VALID'))\n",
    "        x = tf.nn.max_pool(x, ksize=[1, 2, 2, 1], strides=[1, 2, 2, 1], padding='VALID')    \n",
    "        if verbose: print(\"max-pool\", x)\n",
    "        \n",
    "        x = convolution(x, weights, biases, ('c1x1_2', 'c3x3_2'), ('VALID', 'VALID'))\n",
    "        x = tf.nn.max_pool(x, ksize=[1, 3, 3, 1], strides=[1, 2, 2, 1], padding='VALID')   \n",
    "        if verbose: print(\"max-pool\", x)\n",
    "        if verbose: print(\"branch_a\")\n",
    "        return x\n",
    "    \n",
    "    def branch_b(x):\n",
    "        weights = {\n",
    "            'c1x1_1': tf.Variable(tf.truncated_normal([1, 1, 2**(m + 2), 2**(m + 1)], mu, sigma)),\n",
    "            'c3x3_1': tf.Variable(tf.truncated_normal([3, 3, 2**(m + 1), 2**(m + 4)], mu, sigma)),\n",
    "            'c1x1_2': tf.Variable(tf.truncated_normal([1, 1, 2**(m + 4), 2**(m + 2)], mu, sigma)),\n",
    "            'c3x3_2': tf.Variable(tf.truncated_normal([3, 3, 2**(m + 2), 2**(m + 4)], mu, sigma)),\n",
    "            'c1x1_3': tf.Variable(tf.truncated_normal([1, 1, 2**(m + 4), 2**(m + 2)], mu, sigma)),\n",
    "            'c3x3_3': tf.Variable(tf.truncated_normal([3, 3, 2**(m + 2), 2**(m + 4)], mu, sigma)),\n",
    "\n",
    "            'c1x1_4': tf.Variable(tf.truncated_normal([1, 1, 2**(m + 4), 2**(m + 3)], mu, sigma)),\n",
    "            'c5x5_4': tf.Variable(tf.truncated_normal([5, 5, 2**(m + 3), 2**(m + 5)], mu, sigma)),\n",
    "        }\n",
    "        biases = {\n",
    "            'c1x1_1': tf.Variable(tf.zeros(2**(m + 1))),\n",
    "            'c3x3_1': tf.Variable(tf.zeros(2**(m + 4))),\n",
    "            'c1x1_2': tf.Variable(tf.zeros(2**(m + 2))),\n",
    "            'c3x3_2': tf.Variable(tf.zeros(2**(m + 4))),\n",
    "            'c1x1_3': tf.Variable(tf.zeros(2**(m + 2))),\n",
    "            'c3x3_3': tf.Variable(tf.zeros(2**(m + 4))),\n",
    "        \n",
    "            'c1x1_4': tf.Variable(tf.zeros(2**(m + 3))),\n",
    "            'c5x5_4': tf.Variable(tf.zeros(2**(m + 5))),            \n",
    "        }\n",
    "\n",
    "        x = convolution(x, weights, biases, \n",
    "                        ('c1x1_1', 'c3x3_1', 'c1x1_2', 'c3x3_2', 'c1x1_3', 'c3x3_3'), \n",
    "                        ('VALID', 'VALID', 'VALID', 'VALID', 'VALID', 'VALID'))\n",
    "        x = tf.nn.max_pool(x, ksize=[1, 3, 3, 1], strides=[1, 1, 1, 1], padding='VALID')    \n",
    "        if verbose: print(\"max-pool\", x)\n",
    "        \n",
    "        x = convolution(x, weights, biases, ('c1x1_4', 'c5x5_4'), ('VALID', 'VALID'))\n",
    "        x = tf.nn.max_pool(x, ksize=[1, 2, 2, 1], strides=[1, 1, 1, 1], padding='VALID')\n",
    "        if verbose: print(\"max-pool\", x)\n",
    "        if verbose: print(\"branch_b\")\n",
    "        return x\n",
    "\n",
    "    def branch_c(x):\n",
    "        weights = {\n",
    "            'c1x1_1': tf.Variable(tf.truncated_normal([1, 1, 2**(m + 2), 2**(m + 1)], mu, sigma)),\n",
    "            'c7x7_1': tf.Variable(tf.truncated_normal([7, 7, 2**(m + 1), 2**(m + 3)], mu, sigma)),\n",
    "            'c1x1_2': tf.Variable(tf.truncated_normal([1, 1, 2**(m + 3), 2**(m + 2)], mu, sigma)),\n",
    "            'c3x3_2': tf.Variable(tf.truncated_normal([3, 3, 2**(m + 2), 2**(m + 5)], mu, sigma)),\n",
    "        }\n",
    "        biases = {\n",
    "            'c1x1_1': tf.Variable(tf.zeros(2**(m + 1))),\n",
    "            'c7x7_1': tf.Variable(tf.zeros(2**(m + 3))),\n",
    "            'c1x1_2': tf.Variable(tf.zeros(2**(m + 2))),\n",
    "            'c3x3_2': tf.Variable(tf.zeros(2**(m + 5))),            \n",
    "        }\n",
    "\n",
    "        x = convolution(x, weights, biases, ('c1x1_1', 'c7x7_1'), ('VALID', 'VALID'))\n",
    "        x = tf.nn.max_pool(x, ksize=[1, 2, 2, 1], strides=[1, 2, 2, 1], padding='VALID')    \n",
    "        if verbose: print(\"max-pool\", x)\n",
    "        \n",
    "        x = convolution(x, weights, biases, ('c1x1_2', 'c3x3_2'), ('VALID', 'VALID'))\n",
    "        x = tf.nn.max_pool(x, ksize=[1, 2, 2, 1], strides=[1, 2, 2, 1], padding='VALID')\n",
    "        if verbose: print(\"max-pool\", x)\n",
    "        if verbose: print(\"branch_c\", x)\n",
    "        return x\n",
    "    \n",
    "    def total_depth(*args):\n",
    "        return sum(int(x.get_shape()[-1]) for x in args)\n",
    "        \n",
    "    def fc(x, out_shape, add_activation=True):    \n",
    "        W = tf.Variable(tf.truncated_normal([int(x.get_shape()[-1]), out_shape], mu, sigma))\n",
    "        b = tf.Variable(tf.zeros(int(out_shape)))\n",
    "        x = tf.nn.xw_plus_b(x, W, b)\n",
    "        if verbose: print(\"fc\", x)\n",
    "        x = tf.nn.tanh(x) if add_activation else x\n",
    "        if verbose: print(\"tanh\" if add_activation else \"no-op\", x)\n",
    "        return x\n",
    "\n",
    "    def fc_full(x): return fc(x, int(x.get_shape()[-1])>>0)\n",
    "    def fc_half(x): return fc(x, int(x.get_shape()[-1])>>1)\n",
    "    def fc_quarter(x): return fc(x, int(x.get_shape()[-1])>>2)\n",
    "    def out(x): return fc(x, n_classes, add_activation=False)\n",
    "\n",
    "    branches = { 'a': branch_a, 'b': branch_b, 'c': branch_c, }\n",
    "    denses = { 'f': fc_full, 'h': fc_half, 'q': fc_quarter }\n",
    "\n",
    "    if verbose: print('input', x)\n",
    " \n",
    "    x = pre(x)\n",
    "    x = tf.concat(\n",
    "        tuple(tf.contrib.layers.flatten(branches[b](tf.identity(x))) \n",
    "              for b in spec if b in branches), \n",
    "        axis=1)\n",
    "    x = tf.nn.dropout(x, conv_keep_prob)\n",
    "    if verbose: print(\"dropout\", x)\n",
    "    \n",
    "    for d in spec:\n",
    "        if d in denses:\n",
    "            x = denses[d](x)\n",
    "    x = tf.nn.dropout(x, dense_keep_prob)\n",
    "    if verbose: print(\"dropout\", x)\n",
    "    \n",
    "    return out(x)"
   ]
  },
  {
   "cell_type": "markdown",
   "metadata": {},
   "source": [
    "### Train, Validate and Test the Model"
   ]
  },
  {
   "cell_type": "markdown",
   "metadata": {},
   "source": [
    "A validation set can be used to assess how well the model is performing. A low accuracy on the training and validation\n",
    "sets imply underfitting. A high accuracy on the training set but low accuracy on the validation set implies overfitting."
   ]
  },
  {
   "cell_type": "code",
   "execution_count": null,
   "metadata": {
    "collapsed": true
   },
   "outputs": [],
   "source": [
    "# Knobs\n",
    "EPOCHS = 25\n",
    "BATCH_SIZE = 1280\n",
    "RATE = 0.001\n",
    "\n",
    "conv_keep_probability = 0.25\n",
    "dense_keep_probability = 0.40\n",
    "\n",
    "SPEC='abch'"
   ]
  },
  {
   "cell_type": "code",
   "execution_count": null,
   "metadata": {
    "collapsed": true
   },
   "outputs": [],
   "source": [
    "def loss_operation(model):\n",
    "    logits, _, _, _ = model\n",
    "\n",
    "    y = tf.placeholder(tf.int32, (None))\n",
    "    one_hot_y = tf.one_hot(y, n_classes)\n",
    "\n",
    "    cross_entropy = tf.nn.softmax_cross_entropy_with_logits(labels=one_hot_y, logits=logits)\n",
    "    return tf.reduce_mean(cross_entropy), y"
   ]
  },
  {
   "cell_type": "code",
   "execution_count": null,
   "metadata": {
    "collapsed": true
   },
   "outputs": [],
   "source": [
    "def create_model(spec, verbose=False):\n",
    "    x = tf.placeholder(tf.float32, (None, 32, 32, n_channels))\n",
    "    conv_keep_prob = tf.placeholder_with_default(1., (None), name='ConvDropout')\n",
    "    dense_keep_prob = tf.placeholder_with_default(1., (None), name='DenseDropout')\n",
    "    \n",
    "    logits = LeNet(spec, x, conv_keep_prob, dense_keep_prob, verbose=verbose)\n",
    "    \n",
    "    return logits, x, conv_keep_prob, dense_keep_prob"
   ]
  },
  {
   "cell_type": "code",
   "execution_count": null,
   "metadata": {
    "collapsed": true
   },
   "outputs": [],
   "source": [
    "def train_operation(model):\n",
    "    logits, _, _, _ = model\n",
    "\n",
    "    y = tf.placeholder(tf.int32, (None))\n",
    "    one_hot_y = tf.one_hot(y, n_classes)\n",
    "\n",
    "    cross_entropy = tf.nn.softmax_cross_entropy_with_logits(labels=one_hot_y, logits=logits)\n",
    "    loss_operation = tf.reduce_mean(cross_entropy)\n",
    "    optimizer = tf.train.AdamOptimizer(learning_rate=RATE)\n",
    "    return optimizer.minimize(loss_operation), y\n",
    "    \n",
    "def train(operation, model, X_data, y_data, conv_keep_probability, dense_keep_probability):\n",
    "    training_operation, y = operation\n",
    "    _, x, conv_keep_prob, dense_keep_prob = model \n",
    "    for offset in range(0, len(X_data), BATCH_SIZE):\n",
    "        batch_x, batch_y = X_train[offset:offset+BATCH_SIZE], y_train[offset:offset+BATCH_SIZE]\n",
    "        sess.run(training_operation, \n",
    "                 feed_dict={x: batch_x,\n",
    "                            y: batch_y, \n",
    "                            conv_keep_prob: conv_keep_probability,\n",
    "                            dense_keep_prob: dense_keep_probability})"
   ]
  },
  {
   "cell_type": "code",
   "execution_count": null,
   "metadata": {
    "collapsed": true
   },
   "outputs": [],
   "source": [
    "def accuracy_operation(model):\n",
    "    logits, _, _, _ = model\n",
    "    y = tf.placeholder(tf.int32, (None))\n",
    "    one_hot_y = tf.one_hot(y, n_classes)\n",
    "\n",
    "    correct_prediction = tf.equal(tf.argmax(logits, 1), tf.argmax(one_hot_y, 1))\n",
    "    return tf.reduce_mean(tf.cast(correct_prediction, tf.float32)), y\n",
    "\n",
    "def evaluate(operation, model, X_data, y_data, conv_keep_probability=1.0, dense_keep_probability=1.0):\n",
    "    accuracy_operation, y = operation\n",
    "    _, x, conv_keep_prob, dense_keep_prob = model\n",
    "    \n",
    "    num_examples = len(X_data)\n",
    "    total_accuracy = 0\n",
    "    sess = tf.get_default_session()\n",
    "    for offset in range(0, num_examples, BATCH_SIZE):\n",
    "        batch_x, batch_y = X_data[offset:offset+BATCH_SIZE], y_data[offset:offset+BATCH_SIZE]\n",
    "        accuracy = sess.run(accuracy_operation, \n",
    "                            feed_dict={x: batch_x, \n",
    "                                       y: batch_y,\n",
    "                                       conv_keep_prob: conv_keep_probability,\n",
    "                                       dense_keep_prob: dense_keep_probability})\n",
    "        total_accuracy += (accuracy*len(batch_x))\n",
    "    return total_accuracy/num_examples"
   ]
  },
  {
   "cell_type": "code",
   "execution_count": null,
   "metadata": {},
   "outputs": [],
   "source": [
    "import datetime as dt\n",
    "\n",
    "tf.reset_default_graph()\n",
    "\n",
    "model = create_model(SPEC, verbose=False)\n",
    "train_op = train_operation(model)\n",
    "accuracy_op = accuracy_operation(model)\n",
    "\n",
    "saver = tf.train.Saver()\n",
    "\n",
    "training_curve = np.empty((EPOCHS, 2))\n",
    "dropout = (conv_keep_probability, dense_keep_probability)\n",
    "\n",
    "# Training\n",
    "with tf.Session() as sess:        \n",
    "    sess.run(tf.global_variables_initializer())\n",
    "    print(\"Training...\", SPEC)\n",
    "    for i in range(EPOCHS):\n",
    "        epoch_begin = dt.datetime.now()\n",
    "        train(train_op, model, *shuffle(X_train, y_train), *dropout)\n",
    "        epoch_end = dt.datetime.now()\n",
    "\n",
    "        train_accuracy = evaluate(accuracy_op, model, X_train, y_train, *dropout)\n",
    "        validation_accuracy = evaluate(accuracy_op, model, X_valid, y_valid)\n",
    "\n",
    "        print(\"E{:02} {:.3f}s => \"\n",
    "              \"Train Accuracy = {:.3f}; Validation Accuracy = {:.3f}\".format(\n",
    "                  i+1, (epoch_end - epoch_begin).total_seconds(), \n",
    "                  train_accuracy, validation_accuracy))\n",
    "        training_curve[i] = (train_accuracy, validation_accuracy)\n",
    "            \n",
    "    test_accuracy = evaluate(accuracy_op, model, X_test, y_test)\n",
    "    print(\"Test Accuracy = {:.3f}\".format(test_accuracy))\n",
    "        \n",
    "    model_file = saver.save(sess, './lenet-{}-{:.3f}'.format(SPEC, test_accuracy))\n",
    "    print(\"Model saved into\", model_file)\n",
    "    \n",
    "with open('./curve-{}-{:.3f}.p'.format(SPEC, test_accuracy), 'wb') as curve:\n",
    "    pickle.dump(training_curve, curve)"
   ]
  },
  {
   "cell_type": "code",
   "execution_count": null,
   "metadata": {
    "collapsed": true
   },
   "outputs": [],
   "source": [
    "MODEL_FILE = './lenet-abch-0.984'\n",
    "CURVE_FILE = './curve-abch-0.984.p'"
   ]
  },
  {
   "cell_type": "code",
   "execution_count": null,
   "metadata": {},
   "outputs": [],
   "source": [
    "tf.reset_default_graph()\n",
    "\n",
    "model = create_model(SPEC)\n",
    "accuracy_op = accuracy_operation(model)\n",
    "\n",
    "saver = tf.train.Saver()\n",
    "with tf.Session() as sess:\n",
    "    saver.restore(sess, MODEL_FILE)\n",
    "    print(\"train -\", evaluate(accuracy_op, model, X_train, y_train))\n",
    "    print(\"valid -\", evaluate(accuracy_op, model, X_valid, y_valid))\n",
    "    print(\"test -\", evaluate(accuracy_op, model, X_test, y_test))"
   ]
  },
  {
   "cell_type": "code",
   "execution_count": null,
   "metadata": {},
   "outputs": [],
   "source": [
    "with open(CURVE_FILE, 'rb') as f:\n",
    "    curve = pickle.load(f)\n",
    "\n",
    "plt.figure(figsize=(12, 4))\n",
    "plt.plot(range(1, len(curve)+1), curve)\n",
    "plt.ylabel('accuracy')\n",
    "plt.xlabel('epoch')\n",
    "plt.legend(('train', 'valid'))\n",
    "plt.grid()\n",
    "plt.xticks(range(1, len(curve)+1))\n",
    "plt.title('Training curve')"
   ]
  },
  {
   "cell_type": "code",
   "execution_count": null,
   "metadata": {},
   "outputs": [],
   "source": [
    "def topK_operation(model, k):\n",
    "    logits, _, _, _ = model\n",
    "    softmax_prediction = tf.nn.softmax(logits)\n",
    "    return tf.nn.top_k(softmax_prediction, k)\n",
    "\n",
    "def topK(op, model, X_data):\n",
    "    _, x, _, _ = model\n",
    "    \n",
    "    sess = tf.get_default_session()\n",
    "    return (np.vstack(x) \n",
    "            for x in zip(*(\n",
    "                sess.run(op, feed_dict={x: X_data[offset:offset+BATCH_SIZE]})\n",
    "                for offset in range(0, len(X_data), BATCH_SIZE))))\n",
    "\n",
    "tf.reset_default_graph()\n",
    "model = create_model(SPEC)\n",
    "top5_op = topK_operation(model, 5)\n",
    "\n",
    "saver = tf.train.Saver()\n",
    "with tf.Session() as sess:\n",
    "    saver.restore(sess, MODEL_FILE)\n",
    "    p_test, pi_test = topK(top5_op, model, X_test)"
   ]
  },
  {
   "cell_type": "code",
   "execution_count": null,
   "metadata": {
    "collapsed": true
   },
   "outputs": [],
   "source": [
    "def plot_probabilities(image, image_idx, probabilities, probabilities_idx, names):\n",
    "    plt.figure(figsize=(10, IMAGE_SIZE[0]))\n",
    "    \n",
    "    plt.subplot(121)\n",
    "    plt.imshow(image, cmap='gray')\n",
    "    plt.title('{}, {}'.format(image_idx, names[image_idx]))\n",
    "    plt.subplots_adjust(wspace=0, hspace=0.1)\n",
    "    \n",
    "    plt.subplot(122)\n",
    "    ticks = range(len(probabilities))\n",
    "    plt.bar(ticks, probabilities)\n",
    "    plt.xticks(ticks, ('{}\\n{}'.format(i, names[i].replace(' ', '\\n')) for i in probabilities_idx))\n",
    "    plt.title('probabilities')\n",
    "    plt.subplots_adjust(wspace=0, hspace=0)"
   ]
  },
  {
   "cell_type": "code",
   "execution_count": null,
   "metadata": {},
   "outputs": [],
   "source": [
    "# 3 most confusing (lowest high probability)\n",
    "num_to_display = 3\n",
    "for i in p_test[:,0].argsort()[:num_to_display]:\n",
    "    plot_probabilities(X_test[i].squeeze(), y_test[i], p_test[i], pi_test[i], sign_names)"
   ]
  },
  {
   "cell_type": "code",
   "execution_count": null,
   "metadata": {
    "collapsed": true
   },
   "outputs": [],
   "source": [
    "misclassified = np.where(y_test != pi_test[:,0])\n",
    "y_m = y_test[misclassified]\n",
    "X_m = X_test[misclassified]\n",
    "p_m = p_test[misclassified]\n",
    "pi_m = pi_test[misclassified]"
   ]
  },
  {
   "cell_type": "code",
   "execution_count": null,
   "metadata": {},
   "outputs": [],
   "source": [
    "v, c = np.unique(y_m, return_counts=True)\n",
    "\n",
    "plt.figure(figsize=(16, 4))\n",
    "plt.xticks(range(n_classes))\n",
    "plt.bar(v, c/np.sum(c), label='Misclassified')\n",
    "plt.bar(range(n_classes), -np.unique(y_test, return_counts=True)[1]/len(y_test), label='Distribution')\n",
    "plt.xlabel('Category')\n",
    "plt.ylabel('Fraction')\n",
    "plt.title('Misclassified distribution')\n",
    "plt.grid(axis='y')\n",
    "plt.legend()"
   ]
  },
  {
   "cell_type": "code",
   "execution_count": null,
   "metadata": {},
   "outputs": [],
   "source": [
    "num_to_display = 3\n",
    "worst_n = 5\n",
    "for i in v[c.argsort()[-worst_n:]]:\n",
    "    for j in shuffle(np.where(y_m == i)[0])[:num_to_display]:\n",
    "        plot_probabilities(X_m[j].squeeze(), y_m[j], p_m[j], pi_m[j], sign_names)"
   ]
  },
  {
   "cell_type": "code",
   "execution_count": null,
   "metadata": {},
   "outputs": [],
   "source": [
    "plot_grid(X_m[y_m.argsort()], range(len(X_m)), 16, image_size=(1, 1))"
   ]
  },
  {
   "cell_type": "code",
   "execution_count": null,
   "metadata": {
    "collapsed": true
   },
   "outputs": [],
   "source": [
    "from sklearn import metrics\n",
    "\n",
    "precision = metrics.precision_score(y_test, pi_test[:,0], average=None)\n",
    "recall = metrics.recall_score(y_test, pi_test[:,0], average=None)"
   ]
  },
  {
   "cell_type": "code",
   "execution_count": null,
   "metadata": {},
   "outputs": [],
   "source": [
    "plt.figure(figsize=(16, 4))\n",
    "plt.xticks(range(len(precision)))\n",
    "plt.bar(range(len(precision)), precision, label='Precision')\n",
    "plt.bar(range(len(recall)), -recall, label='-Recall')\n",
    "plt.grid(axis='y')\n",
    "plt.xlabel('Category')\n",
    "plt.ylabel('Metric')\n",
    "plt.legend()"
   ]
  },
  {
   "cell_type": "code",
   "execution_count": null,
   "metadata": {},
   "outputs": [],
   "source": [
    "v, c = np.unique(y_train_origin, return_counts=True)\n",
    "\n",
    "plt.figure(figsize=(16, 8))\n",
    "\n",
    "plt.subplot(211)\n",
    "plt.xticks(range(len(precision)))\n",
    "plt.bar(range(len(precision)), precision, label='Precesion')\n",
    "plt.bar(range(len(v)), -10.*c/np.sum(c), label='-10xProbability')\n",
    "plt.grid(axis='y')\n",
    "plt.legend()\n",
    "plt.xlabel('Category')\n",
    "plt.ylabel('Metric')\n",
    "\n",
    "plt.subplot(212)\n",
    "plt.xticks(range(len(recall)))\n",
    "plt.bar(range(len(recall)), recall, label='Recall')\n",
    "plt.bar(range(len(v)), -10.*c/np.sum(c), label='-10xProbability')\n",
    "plt.grid(axis='y')\n",
    "plt.legend()\n",
    "plt.xlabel('Category')\n",
    "plt.ylabel('Metric')"
   ]
  },
  {
   "cell_type": "markdown",
   "metadata": {},
   "source": [
    "---\n",
    "\n",
    "## Step 3: Test a Model on New Images\n",
    "\n",
    "To give yourself more insight into how your model is working, download at least five pictures of German traffic signs from the web and use your model to predict the traffic sign type.\n",
    "\n",
    "You may find `signnames.csv` useful as it contains mappings from the class id (integer) to the actual sign name."
   ]
  },
  {
   "cell_type": "markdown",
   "metadata": {},
   "source": [
    "### Load and Output the Images"
   ]
  },
  {
   "cell_type": "code",
   "execution_count": null,
   "metadata": {},
   "outputs": [],
   "source": [
    "import sys\n",
    "import os\n",
    "import matplotlib.image as img\n",
    "\n",
    "images_dir = 'images'\n",
    "X, y = (np.vstack(x) \n",
    "        for x in zip(*((\n",
    "            np.expand_dims(img.imread(os.path.join(images_dir, f)), 0),\n",
    "            int(os.path.splitext(f)[0].split('_')[1]))\n",
    "            for f in os.listdir(images_dir) \n",
    "            if f.startswith('sign'))))\n",
    "y = np.squeeze(y)\n",
    "\n",
    "plot_grid(X, range(len(X)), 3, image_size=(2, 2))\n",
    "X = preprocess_transformation(X)\n",
    "plot_grid(X, range(len(X)), 3, image_size=(2, 2))\n",
    "n_channels = X.shape[-1]"
   ]
  },
  {
   "cell_type": "markdown",
   "metadata": {},
   "source": [
    "### Predict the Sign Type for Each Image"
   ]
  },
  {
   "cell_type": "code",
   "execution_count": null,
   "metadata": {},
   "outputs": [],
   "source": [
    "tf.reset_default_graph()\n",
    "\n",
    "model = create_model(SPEC)\n",
    "top5_op = topK_operation(model, 5)\n",
    "\n",
    "saver = tf.train.Saver()\n",
    "with tf.Session() as sess:\n",
    "    saver.restore(sess, MODEL_FILE)\n",
    "    p, pi = topK(top5_op, model, X)"
   ]
  },
  {
   "cell_type": "markdown",
   "metadata": {},
   "source": [
    "### Analyze Performance"
   ]
  },
  {
   "cell_type": "code",
   "execution_count": null,
   "metadata": {},
   "outputs": [],
   "source": [
    "tf.reset_default_graph()\n",
    "\n",
    "model = create_model(SPEC)\n",
    "accuracy_op = accuracy_operation(model)\n",
    "\n",
    "saver = tf.train.Saver()\n",
    "with tf.Session() as sess:\n",
    "    saver.restore(sess, MODEL_FILE)\n",
    "    print(\"Accuracy =\", evaluate(accuracy_op, model, X, y))"
   ]
  },
  {
   "cell_type": "code",
   "execution_count": null,
   "metadata": {},
   "outputs": [],
   "source": [
    "for i, v in enumerate(y):\n",
    "    print(\"expected - {} ({});\\t\\tpredicted - {} ({});\\t\\tprobability = {:.3f}\".format(\n",
    "        v, sign_names[v], pi[i, 0], sign_names[pi[i, 0]], p[i, 0]\n",
    "    ))"
   ]
  },
  {
   "cell_type": "markdown",
   "metadata": {},
   "source": [
    "### Output Top 5 Softmax Probabilities For Each Image Found on the Web"
   ]
  },
  {
   "cell_type": "markdown",
   "metadata": {},
   "source": [
    "For each of the new images, print out the model's softmax probabilities to show the **certainty** of the model's predictions (limit the output to the top 5 probabilities for each image). [`tf.nn.top_k`](https://www.tensorflow.org/versions/r0.12/api_docs/python/nn.html#top_k) could prove helpful here. \n",
    "\n",
    "The example below demonstrates how tf.nn.top_k can be used to find the top k predictions for each image.\n",
    "\n",
    "`tf.nn.top_k` will return the values and indices (class ids) of the top k predictions. So if k=3, for each sign, it'll return the 3 largest probabilities (out of a possible 43) and the correspoding class ids.\n",
    "\n",
    "Take this numpy array as an example. The values in the array represent predictions. The array contains softmax probabilities for five candidate images with six possible classes. `tf.nn.top_k` is used to choose the three classes with the highest probability:\n",
    "\n",
    "```\n",
    "# (5, 6) array\n",
    "a = np.array([[ 0.24879643,  0.07032244,  0.12641572,  0.34763842,  0.07893497,\n",
    "         0.12789202],\n",
    "       [ 0.28086119,  0.27569815,  0.08594638,  0.0178669 ,  0.18063401,\n",
    "         0.15899337],\n",
    "       [ 0.26076848,  0.23664738,  0.08020603,  0.07001922,  0.1134371 ,\n",
    "         0.23892179],\n",
    "       [ 0.11943333,  0.29198961,  0.02605103,  0.26234032,  0.1351348 ,\n",
    "         0.16505091],\n",
    "       [ 0.09561176,  0.34396535,  0.0643941 ,  0.16240774,  0.24206137,\n",
    "         0.09155967]])\n",
    "```\n",
    "\n",
    "Running it through `sess.run(tf.nn.top_k(tf.constant(a), k=3))` produces:\n",
    "\n",
    "```\n",
    "TopKV2(values=array([[ 0.34763842,  0.24879643,  0.12789202],\n",
    "       [ 0.28086119,  0.27569815,  0.18063401],\n",
    "       [ 0.26076848,  0.23892179,  0.23664738],\n",
    "       [ 0.29198961,  0.26234032,  0.16505091],\n",
    "       [ 0.34396535,  0.24206137,  0.16240774]]), indices=array([[3, 0, 5],\n",
    "       [0, 1, 4],\n",
    "       [0, 5, 1],\n",
    "       [1, 3, 5],\n",
    "       [1, 4, 3]], dtype=int32))\n",
    "```\n",
    "\n",
    "Looking just at the first row we get `[ 0.34763842,  0.24879643,  0.12789202]`, you can confirm these are the 3 largest probabilities in `a`. You'll also notice `[3, 0, 5]` are the corresponding indices."
   ]
  },
  {
   "cell_type": "code",
   "execution_count": null,
   "metadata": {},
   "outputs": [],
   "source": [
    "for i, v in enumerate(y):\n",
    "    print(\"image {}: {} -> {}\".format(\n",
    "            i+1, v, \", \".join(\"{:2} ({:.3f})\".format(pi[i,j], p[i,j]) \n",
    "                              for j in range(len(p[i])))))"
   ]
  },
  {
   "cell_type": "code",
   "execution_count": null,
   "metadata": {},
   "outputs": [],
   "source": [
    "for i, v in enumerate(y):\n",
    "    plot_probabilities(X[i].squeeze(), v, p[i], pi[i], sign_names)"
   ]
  },
  {
   "cell_type": "markdown",
   "metadata": {},
   "source": [
    "### Project Writeup\n",
    "\n",
    "Once you have completed the code implementation, document your results in a project writeup using this [template](https://github.com/udacity/CarND-Traffic-Sign-Classifier-Project/blob/master/writeup_template.md) as a guide. The writeup can be in a markdown or pdf file. "
   ]
  },
  {
   "cell_type": "markdown",
   "metadata": {},
   "source": [
    "> **Note**: Once you have completed all of the code implementations and successfully answered each question above, you may finalize your work by exporting the iPython Notebook as an HTML document. You can do this by using the menu above and navigating to  \\n\",\n",
    "    \"**File -> Download as -> HTML (.html)**. Include the finished document along with this notebook as your submission."
   ]
  },
  {
   "cell_type": "markdown",
   "metadata": {},
   "source": [
    "---\n",
    "\n",
    "## Step 4 (Optional): Visualize the Neural Network's State with Test Images\n",
    "\n",
    " This Section is not required to complete but acts as an additional excersise for understaning the output of a neural network's weights. While neural networks can be a great learning device they are often referred to as a black box. We can understand what the weights of a neural network look like better by plotting their feature maps. After successfully training your neural network you can see what it's feature maps look like by plotting the output of the network's weight layers in response to a test stimuli image. From these plotted feature maps, it's possible to see what characteristics of an image the network finds interesting. For a sign, maybe the inner network feature maps react with high activation to the sign's boundary outline or to the contrast in the sign's painted symbol.\n",
    "\n",
    " Provided for you below is the function code that allows you to get the visualization output of any tensorflow weight layer you want. The inputs to the function should be a stimuli image, one used during training or a new one you provided, and then the tensorflow variable name that represents the layer's state during the training process, for instance if you wanted to see what the [LeNet lab's](https://classroom.udacity.com/nanodegrees/nd013/parts/fbf77062-5703-404e-b60c-95b78b2f3f9e/modules/6df7ae49-c61c-4bb2-a23e-6527e69209ec/lessons/601ae704-1035-4287-8b11-e2c2716217ad/concepts/d4aca031-508f-4e0b-b493-e7b706120f81) feature maps looked like for it's second convolutional layer you could enter conv2 as the tf_activation variable.\n",
    "\n",
    "For an example of what feature map outputs look like, check out NVIDIA's results in their paper [End-to-End Deep Learning for Self-Driving Cars](https://devblogs.nvidia.com/parallelforall/deep-learning-self-driving-cars/) in the section Visualization of internal CNN State. NVIDIA was able to show that their network's inner weights had high activations to road boundary lines by comparing feature maps from an image with a clear path to one without. Try experimenting with a similar test to show that your trained network's weights are looking for interesting features, whether it's looking at differences in feature maps from images with or without a sign, or even what feature maps look like in a trained network vs a completely untrained one on the same sign image.\n",
    "\n",
    "<figure>\n",
    " <img src=\"visualize_cnn.png\" width=\"380\" alt=\"Combined Image\" />\n",
    " <figcaption>\n",
    " <p></p> \n",
    " <p style=\"text-align: center;\"> Your output should look something like this (above)</p> \n",
    " </figcaption>\n",
    "</figure>\n",
    " <p></p> \n"
   ]
  },
  {
   "cell_type": "code",
   "execution_count": null,
   "metadata": {
    "collapsed": true
   },
   "outputs": [],
   "source": [
    "### Visualize your network's feature maps here.\n",
    "### Feel free to use as many code cells as needed.\n",
    "\n",
    "# image_input: the test image being fed into the network to produce the feature maps\n",
    "# tf_activation: should be a tf variable name used during your training procedure that \n",
    "#                represents the calculated state of a specific weight layer\n",
    "# activation_min/max: can be used to view the activation contrast in more detail, \n",
    "#                     by default matplot sets min and max to the actual min and max \n",
    "#                     values of the output\n",
    "# plt_num: used to plot out multiple different weight feature map sets on the same block, \n",
    "#          just extend the plt number for each new feature map entry\n",
    "\n",
    "def outputFeatureMap(model, image_input, tf_activation, activation_min=-1, activation_max=-1 ,plt_num=1):\n",
    "    _, x, _, _ = model\n",
    "    # Here make sure to preprocess your image_input in a way your network expects\n",
    "    # with size, normalization, ect if needed\n",
    "    image_input = np.expand_dims(image_input, 0)\n",
    "    # Note: x should be the same name as your network's tensorflow data placeholder variable\n",
    "    # If you get an error tf_activation is not defined it may be having trouble accessing the variable from inside\n",
    "    # a function    \n",
    "    activation = tf_activation.eval(feed_dict={x : image_input})\n",
    "    featuremaps = activation.shape[3]\n",
    "    plt.figure(plt_num, figsize=(16, 16))\n",
    "    for featuremap in range(featuremaps):\n",
    "        plt.subplot(16, 16, featuremap+1) # sets the number of feature maps to show on each row and column\n",
    "        #plt.title('FM ' + str(featuremap)) # displays the feature map number\n",
    "        if activation_min != -1 & activation_max != -1:\n",
    "            plt.imshow(activation[0,:,:, featuremap], \n",
    "                       interpolation=\"nearest\", \n",
    "                       vmin=activation_min, \n",
    "                       vmax=activation_max, \n",
    "                       cmap=\"gray\")\n",
    "        elif activation_max != -1:\n",
    "            plt.imshow(activation[0,:,:, featuremap], \n",
    "                       interpolation=\"nearest\", \n",
    "                       vmax=activation_max, \n",
    "                       cmap=\"gray\")\n",
    "        elif activation_min != -1:\n",
    "            plt.imshow(activation[0,:,:, featuremap], \n",
    "                       interpolation=\"nearest\", \n",
    "                       vmin=activation_min, \n",
    "                       cmap=\"gray\")\n",
    "        else:\n",
    "            plt.imshow(activation[0,:,:, featuremap], \n",
    "                       interpolation=\"nearest\", \n",
    "                       cmap=\"gray\")\n",
    "        plt.axis('off')\n",
    "        \n",
    "    plt.subplots_adjust(wspace=0.03, hspace=0.03)"
   ]
  },
  {
   "cell_type": "code",
   "execution_count": null,
   "metadata": {},
   "outputs": [],
   "source": [
    "tf.reset_default_graph()\n",
    "\n",
    "model = create_model(SPEC)\n",
    "saver = tf.train.Saver()\n",
    "graph = tf.get_default_graph()\n",
    "\n",
    "with tf.Session() as sess:\n",
    "    saver.restore(sess, MODEL_FILE)\n",
    "    for i in (0, 2):\n",
    "        for j,tensor in enumerate(tensor \n",
    "                                  for x in graph.get_operations() \n",
    "                                  if x.name.startswith('Relu')\n",
    "                                  for tensor in (graph.get_tensor_by_name(x.name + \":0\"),)\n",
    "                                  if (len(tensor.shape) == 4 and \n",
    "                                      int(tensor.shape[1]) >= X.shape[1]/4.)):\n",
    "            outputFeatureMap(model, X[i], tensor, plt_num=i*len(graph.get_operations())+j)"
   ]
  }
 ],
 "metadata": {
  "anaconda-cloud": {},
  "kernelspec": {
   "display_name": "Python 3",
   "language": "python",
   "name": "python3"
  },
  "language_info": {
   "codemirror_mode": {
    "name": "ipython",
    "version": 3
   },
   "file_extension": ".py",
   "mimetype": "text/x-python",
   "name": "python",
   "nbconvert_exporter": "python",
   "pygments_lexer": "ipython3",
   "version": "3.5.2"
  },
  "widgets": {
   "state": {},
   "version": "1.1.2"
  }
 },
 "nbformat": 4,
 "nbformat_minor": 1
}
